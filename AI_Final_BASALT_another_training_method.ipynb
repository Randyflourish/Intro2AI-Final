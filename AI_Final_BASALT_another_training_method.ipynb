{
  "cells": [
    {
      "cell_type": "markdown",
      "metadata": {
        "id": "view-in-github"
      },
      "source": [
        "<a href=\"https://colab.research.google.com/github/Randyflourish/Intro2AI-Final/blob/main/AI_Final_BASALT.ipynb\" target=\"_parent\"><img src=\"https://colab.research.google.com/assets/colab-badge.svg\" alt=\"Open In Colab\"/></a>"
      ]
    },
    {
      "cell_type": "markdown",
      "metadata": {
        "id": "Pxwl_yG1qhR7"
      },
      "source": [
        "<div style=\"text-align: center\">\n",
        "  <img src=\"https://github.com/KarolisRam/MineRL2021-Intro-baselines/blob/main/img/colab_banner.png?raw=true\">\n",
        "</div>"
      ]
    },
    {
      "cell_type": "markdown",
      "metadata": {
        "id": "-_BGlQwngccr"
      },
      "source": [
        "# Introduction\n",
        "This notebook is the installation part for the [MineRL 2022](https://minerl.io/) competition, building on the original introductory notebooks created for the MineRL 2021 competition.\n",
        "\n",
        "## Note: About this file\n",
        "\n",
        "This file is updated by NYCU 2024 Spring Intro2AI Team 11: まふまふ.\n",
        "The original file is come from [here](https://colab.research.google.com/drive/1rJ3lGy-bG7kJRe_wYBWg7fjSaD9oOMDw?usp=sharing)\n",
        "\n",
        "## There's a video to explain...\n",
        "Please visit [this intro YouTube video](https://youtu.be/8yIrWcyWGek) to see some background information.  Hopefully, this will lead to a number of additional videos that explore what can be done in this environment...\n",
        "\n",
        "And if you see me=@mdda online, then please say \"Hi!\"\n",
        "\n",
        "## Software 2.0\n",
        "The approach we are going to use, where we took some human written code and replaced it with an AI component is quite similar to how Tesla approaches self driving cars. See this talk by Andrej Karpathy, Director of AI at Tesla:  \n",
        "[Building the Software 2.0 Stack](https://databricks.com/session/keynote-from-tesla)\n"
      ]
    },
    {
      "cell_type": "markdown",
      "metadata": {
        "id": "ysSTXmT3YUeF"
      },
      "source": [
        "# Setup"
      ]
    },
    {
      "cell_type": "code",
      "execution_count": 1,
      "metadata": {
        "id": "_HTScYNljgXv"
      },
      "outputs": [],
      "source": [
        "%%capture\n",
        "!sudo add-apt-repository -y ppa:openjdk-r/ppa\n",
        "!sudo apt-get purge openjdk-*\n",
        "!sudo apt-get install openjdk-8-jdk\n",
        "!sudo apt-get install xvfb xserver-xephyr vnc4server python-opengl ffmpeg\n",
        "# Takes ~1min to run this\n",
        "# New Add\n",
        "!sudo apt-get install -y xvfb  # Install Xvfb"
      ]
    },
    {
      "cell_type": "code",
      "execution_count": 2,
      "metadata": {
        "id": "xh6gb3UWjT3p"
      },
      "outputs": [],
      "source": [
        "# This takes ~22mins - which would hit us every time we start Colab\n",
        "#   So we'll do it once, and store a '.tar.gz' of the installation into our\n",
        "#   Google Drive, so that we can get it back much quicker the second time!\n",
        "\n",
        "##%%capture\n",
        "##!pip3 install --upgrade minerl # Default is 0.4.4, we want 1.0.0 for VPT\n",
        "##!pip3 uninstall minerl\n",
        "#!pip3 install git+https://github.com/minerllabs/minerl@v1.0.0\n",
        "#\n",
        "#!pip3 install pyvirtualdisplay\n",
        "#!pip3 install -U colabgymrender"
      ]
    },
    {
      "cell_type": "code",
      "execution_count": null,
      "metadata": {
        "colab": {
          "base_uri": "https://localhost:8080/"
        },
        "id": "sV7hXcp1vgj6",
        "outputId": "25beea9a-c7a7-4f2e-a217-d404aa1ae6ea"
      },
      "outputs": [],
      "source": [
        "import os, sys, time\n",
        "\n",
        "mine_env = 'mine_env'\n",
        "mine_env_full = f'/content/{mine_env}'\n",
        "mine_tar = f'{mine_env}.tar.gz'\n",
        "\n",
        "if mine_env_full not in sys.path:\n",
        "  sys.path.insert(0, mine_env_full)\n",
        "  os.environ['PYTHONPATH'] += f':{mine_env_full}'\n",
        "\n",
        "mine_env, mine_env_full, mine_tar"
      ]
    },
    {
      "cell_type": "code",
      "execution_count": null,
      "metadata": {
        "colab": {
          "base_uri": "https://localhost:8080/",
          "height": 70
        },
        "id": "uvUh7yQ36RjQ",
        "outputId": "98e27cb5-e8f7-4fec-f83d-b18430a6dcb4"
      },
      "outputs": [],
      "source": [
        "# We'll connect to our Google Drive here, and see whether we've already saved off a copy\n",
        "#   This will ask permission to 'connect to your drive' : The answer is 'Yes'!\n",
        "MINE_ENV_IS_NEW = True\n",
        "\n",
        "from google.colab import drive  # google.colab contains functions specifically for interacting with Google Colab's environment.\n",
        "drive.mount('/content/drive')    # mounts your Google Drive as a local file system\n",
        "if os.path.isfile(f'/content/drive/MyDrive/pythonLib/{mine_tar}'): # check if \"mine_env.tar.gz\" is in your Google Drive\n",
        "  ! cp /content/drive/MyDrive/pythonLib/$mine_tar ./$mine_tar  # ! means the command is to be executed in the shell rather than as Python code.\n",
        "                                              # This command copies the file from your Google Drive to the current working directory of the Colab notebook.\n",
        "\n",
        "  ! ls -l ./$mine_tar                         # This lists the file details such as permissions, owner, size, and modification date for the copied file in the current directory.\n",
        "                                              # It helps verify that the file has been copied correctly and shows its properties.\n",
        "  # e.g.: -rw------- 1 root root 1510118446 Jun 26 08:48 ./mine_env.tar.gz\n",
        "\n",
        "  # ! tar -tzf ./$mine_tar | grep minerl | head -5    # list some contents of the compressed tar file without extracting it\n",
        "  ! tar -xzf ./$mine_tar    # This extracts the contents of the tar file into the current directory\n",
        "\n",
        "  MINE_ENV_IS_NEW = False\n",
        "  # Takes 1min too (huge saving!)\n",
        "\n",
        "sys.path.append('/content/drive/MyDrive/pythonLib')\n",
        "sys.path.append('/content/drive/MyDrive/pythonLib/VPT')\n",
        "\n",
        "\"DONE\""
      ]
    },
    {
      "cell_type": "code",
      "execution_count": null,
      "metadata": {
        "colab": {
          "base_uri": "https://localhost:8080/",
          "height": 105
        },
        "id": "n7ZYcRvnvq6y",
        "outputId": "22042c33-32f1-4651-983f-8cbeae204929"
      },
      "outputs": [],
      "source": [
        "# Build the mine_env if necessary\n",
        "\"\"\"\n",
        "try:\n",
        "  from pyvirtualdisplay import Display\n",
        "except :\n",
        "  !pip3 install --target=$mine_env git+https://github.com/minerllabs/minerl@v1.0.2   # 21 mins\n",
        "  # https://stackoverflow.com/questions/55833509/attributeerror-type-object-callable-has-no-attribute-abc-registry\n",
        "  !mv $mine_env/typing.py $mine_env/MEH-typing.py  # Fix for Python3.7 ...\n",
        "\n",
        "  !pip3 install --target=$mine_env pyvirtualdisplay  # 4 secs  #注 Display creates a virtual framebuffer that graphical applications can use to render output as if they were using a real monitor.\n",
        "                                                              #注 This allows you to run applications that require a GUI without having an actual GUI environment installed on the system.\n",
        "  !pip3 install --target=$mine_env --upgrade colabgymrender # 22 secs  #注 colabgymrender provides a workaround by capturing the graphical output of the environment and displaying it within the notebook.\n",
        "\n",
        "  MINE_ENV_IS_NEW = True\n",
        "  # NB: some restart notices in the output ... but there's no need to restart!\n",
        "  #     In any case, please wait for the 'DONE' message to print out\n",
        "f\"DONE, with MINE_ENV_IS_NEW={MINE_ENV_IS_NEW}\"\n",
        "\"\"\""
      ]
    },
    {
      "cell_type": "code",
      "execution_count": null,
      "metadata": {
        "colab": {
          "base_uri": "https://localhost:8080/",
          "height": 35
        },
        "id": "iNj2G3933yVu",
        "outputId": "cfc72764-9748-4997-ac7e-32ea912451be"
      },
      "outputs": [],
      "source": [
        "# check content of mine_env (execute if needed)\n",
        "'''\n",
        "! du -b mine_env | tail -5  # mine_env = ~ 2,094,031,775 bytes overall (a little bit less)\n",
        "'''"
      ]
    },
    {
      "cell_type": "code",
      "execution_count": null,
      "metadata": {
        "colab": {
          "base_uri": "https://localhost:8080/",
          "height": 105
        },
        "id": "KOxO92nU4C8Q",
        "outputId": "0b18e91e-e9df-4bfa-94c0-be479ab3cbf5"
      },
      "outputs": [],
      "source": [
        "# Build new env.tar.gz file in google drive (execute if needed)\n",
        "'''\n",
        "if MINE_ENV_IS_NEW: #  or True\n",
        "  # ! ls -l /gdrive/MyDrive/mine*\n",
        "  ! rm -f ./$mine_tar   #注 removes the existing tar.gz archive of the environment, if any, from the current directory.\n",
        "  ! tar -czf ./$mine_tar $mine_env  #注 This command creates a new compressed (gzipped) tar archive of the directory specified by the $mine_env variable (the environment directory).\n",
        "  ! ls -l ./$mine_tar\n",
        "  # Without running the env...\n",
        "  # -rw-r--r-- 1 root root 1505020174 Jun 26 07:26 ./mine_env.tar.gz\n",
        "  # Once the minerl env has been reset once (i.e. java has built...)\n",
        "  # -rw------- 1 root root 1511976116 Jun 26 08:43 ./mine_env.tar.gz\n",
        "  ! tar -tzf ./$mine_tar | head\n",
        "  ! cp ./$mine_tar /content/drive/MyDrive/pythonLib/  #注 This copies the newly created archive to a Google Drive directory.\n",
        "  ! ls -l /content/drive/MyDrive/pythonLib/$mine_tar\n",
        "\"DONE\"\n",
        "'''"
      ]
    },
    {
      "cell_type": "markdown",
      "metadata": {
        "id": "ADmrUKxvYXGa"
      },
      "source": [
        "# Import Libraries"
      ]
    },
    {
      "cell_type": "code",
      "execution_count": null,
      "metadata": {
        "colab": {
          "base_uri": "https://localhost:8080/"
        },
        "id": "g8_vZpMFpiD9",
        "outputId": "db8bee6e-bc74-430d-f2c4-051bf33ba93c"
      },
      "outputs": [],
      "source": [
        "import os   # For interacting with the operating system.\n",
        "\n",
        "import numpy as np  # For numerical operations.\n",
        "\n",
        "import gym    # To create and manage environments based on the OpenAI Gym toolkit.\n",
        "import minerl\n",
        "\n",
        "from tqdm.notebook import tqdm  # For displaying progress bars in Jupyter notebooks.\n",
        "from colabgymrender.recorder import Recorder # To facilitate rendering of Gym environments in Google Colab.\n",
        "from pyvirtualdisplay import Display # To create a virtual display to render environments in a headless server or environment like Google Colab.\n",
        "\n",
        "import logging\n",
        "logging.disable(logging.ERROR) # reduce clutter, remove if something doesn't work to see the error logs.\n",
        "\n",
        "np.__version__  # '1.21.6' => that this is reading from our ~/mine_env directory\n",
        "# Numpy version may be different from the content above\n",
        "# About warning: since warning is in a local package, so if error occurs, please comment the specific line\n",
        "\n",
        "import cv2\n",
        "#from google.colab.patches import cv2_imshow\n",
        "#from PIL import Image\n",
        "import matplotlib.pylab as plt\n",
        "\n",
        "\n",
        "import json\n",
        "import glob\n",
        "from run_inverse_dynamics_model import json_action_to_env_action\n",
        "from agent import ENV_KWARGS # need to modify\n",
        "\n",
        "import torch as th"
      ]
    },
    {
      "cell_type": "markdown",
      "metadata": {
        "id": "4QwEA7yJ6Ail"
      },
      "source": [
        "# Download Dataset\n",
        "download a number of BASALT find-cave dataset, whose is specified in 'find-cave-Jul-28.json'\n",
        "\n",
        "Downloaded data includes the video data(.mp4), but also the corresponding actions(.jsonl)\n",
        "\n",
        "Target directory, which saves all the downloaded data, is /content/MineRLBasaltFindCave-v0 (in the disk)\n",
        "\n",
        "function 'download_file()' is refer to 'utils/download_dataset.py' in [basalt-2022-behavioural-cloning-baseline](https://github.com/minerllabs/basalt-2022-behavioural-cloning-baseline) with a little change\n"
      ]
    },
    {
      "cell_type": "code",
      "execution_count": null,
      "metadata": {
        "colab": {
          "base_uri": "https://localhost:8080/"
        },
        "id": "J0u4GNgalm8B",
        "outputId": "1fb4cb06-a297-4bfe-c9de-311487e1c176"
      },
      "outputs": [],
      "source": [
        "n_videos = 400\n",
        "\n",
        "from download_dataset import download_file\n",
        "download_file(n_videos) # default is 400, about 40 GB?\n",
        "# !ls /content/MineRLBasaltFindCave-v0\n"
      ]
    },
    {
      "cell_type": "markdown",
      "metadata": {
        "id": "qjkM-WKjCSGx"
      },
      "source": [
        "# Construct Inverse Dynamic Model Agent\n",
        "load the 4x_idm model and load 4x_idm weight into the model\n",
        "\n",
        "function 'load_IDM_agent()' is refer to 'main() in ./VPT/run_inverse_dynamics_model.py'"
      ]
    },
    {
      "cell_type": "code",
      "execution_count": null,
      "metadata": {
        "colab": {
          "base_uri": "https://localhost:8080/",
          "height": 35
        },
        "id": "ehehsdr8CaG-",
        "outputId": "650d3539-3f3d-4297-eb45-57a521e0fe05"
      },
      "outputs": [],
      "source": [
        "'''\n",
        "from inverse_dynamics_model import load_IDM_agent\n",
        "IDMAgent = load_IDM_agent()\n",
        "'''"
      ]
    },
    {
      "cell_type": "markdown",
      "metadata": {
        "id": "z8TaoZR8aCg7"
      },
      "source": [
        "# Test the IDM\n",
        "check if the prediction of IDM is almost the same as ground truth actions\n",
        "\n",
        "also refer to 'main() in ./VPT/run_inverse_dynamics_model.py'\n",
        "\n",
        "the higher n_frames, the more accurate, however also lead to more memory consumption\n"
      ]
    },
    {
      "cell_type": "code",
      "execution_count": null,
      "metadata": {
        "colab": {
          "base_uri": "https://localhost:8080/",
          "height": 105
        },
        "id": "oh2aHrFCHrMm",
        "outputId": "91f10256-c2fc-4346-f707-26e4e3ed0835"
      },
      "outputs": [],
      "source": [
        "'''\n",
        "# Test for IDMAgent\n",
        "import json\n",
        "import glob\n",
        "from run_inverse_dynamics_model import json_action_to_env_action\n",
        "from agent import ENV_KWARGS # need to modify\n",
        "\n",
        "import torch as th\n",
        "\n",
        "required_resolution = ENV_KWARGS[\"resolution\"] # video required resolution\n",
        "files = glob.glob(\"/content/MineRLBasaltFindCave-v0/*.mp4\")\n",
        "video_path = files[0] # pick the first video to test\n",
        "json_path = video_path.replace(\".mp4\", \".jsonl\")\n",
        "\n",
        "cap = cv2.VideoCapture(video_path) # create a video capture object that can be used to read video files or streams\n",
        "\n",
        "json_index = 0\n",
        "with open(json_path) as json_file:\n",
        "  json_lines = json_file.readlines()\n",
        "  json_data = \"[\" + \",\".join(json_lines) + \"]\"\n",
        "  json_data = json.loads(json_data)\n",
        "\n",
        "# can be modified\n",
        "n_frames = 1000  # how many frames of the video are loaded and processed in a single batch.\n",
        "          # Processing a specific number of frames at a time, instead of loading an entire video into memory, helps manage memory usage and computational load.\n",
        "# can be modified\n",
        "n_batches = 0  # This term describes the total number of these batches that will be processed during the script’s run\n",
        "          # If the video has more frames, they won't be processed unless the n_batches count is increased.\n",
        "for _ in range(n_batches):\n",
        "  th.cuda.empty_cache() # clear the unused memory from the GPU's cache\n",
        "  print(\"=== Loading up frames ===\")\n",
        "  frames = []\n",
        "  recorded_actions = []\n",
        "  for _ in range(n_frames):\n",
        "    ret, frame = cap.read() # capture a frame from the video, 'ret' is a boolean indicating if the frame was successfully read\n",
        "    if not ret: # end of the video\n",
        "      break\n",
        "    assert frame.shape[0] == required_resolution[1] and frame.shape[1] == required_resolution[0], \"Video must be of resolution {}\".format(required_resolution)\n",
        "    # BGR -> RGB\n",
        "    frames.append(frame[..., ::-1]) # Converts the frame from BGR (Blue, Green, Red - default color format in OpenCV) to RGB format and stores it in the frames list\n",
        "    env_action, _ = json_action_to_env_action(json_data[json_index]) # extract the ground truth action\n",
        "    recorded_actions.append(env_action)\n",
        "    json_index += 1\n",
        "  frames = np.stack(frames) # stacks the list of frames into a numpy array, making it suitable for batch processing in the model prediction\n",
        "  print(\"=== Predicting actions ===\")\n",
        "  predicted_actions = IDMAgent.predict_actions(frames) # pass a batch of frames into IDM, and get the output actions\n",
        "\n",
        "  for i in range(len(frames)):\n",
        "    for y, (action_name, action_array) in enumerate(predicted_actions.items()):\n",
        "      print(f\"{action_name}: {action_array[0, i]} ({recorded_actions[i][action_name]}), \", end = \"\")\n",
        "    print(\"\\n\")\n",
        "'''"
      ]
    },
    {
      "cell_type": "markdown",
      "metadata": {
        "id": "7qUZWauyaz6J"
      },
      "source": [
        "# preprocessing\n",
        "env_action_to_agent\n",
        "\n",
        "agent_action_to_env\n",
        "\n",
        "img_to_tensor"
      ]
    },
    {
      "cell_type": "code",
      "execution_count": 12,
      "metadata": {
        "id": "XFxTSpNza7aE"
      },
      "outputs": [],
      "source": [
        "import glob\n",
        "import torch as th\n",
        "import torchvision.transforms.functional as TF\n",
        "from torch import nn\n",
        "from torch.nn import functional as F\n",
        "from torch import optim\n",
        "\n",
        "# transform of env action and agent action\n",
        "env = gym.make(\"MineRLBasaltFindCave-v0\")\n",
        "\n",
        "NOOP = env.action_space.no_op()\n",
        "\n",
        "# binary encoding of env_action\n",
        "# forward, back, left, right, sneak, sprint(run), jump, ESC = 2^7, ..., 2^0\n",
        "ACTION_LIST = [\"forward\", \"back\", \"left\", \"right\", \"sneak\", \"sprint\", \"jump\", \"ESC\"]\n",
        "ACTION_LIST_Rev = ACTION_LIST.copy()\n",
        "ACTION_LIST_Rev.reverse()\n",
        "\n",
        "def env_action_to_agent(env_action: dict):\n",
        "  target_action_C = int(0) # for classification\n",
        "  target_action_R = env_action[\"camera\"] # for regression\n",
        "  for act in ACTION_LIST:\n",
        "    target_action_C *= 2\n",
        "    target_action_C += 1 if env_action[act] == 1 else 0\n",
        "  if target_action_C == 0 and np.array_equal(target_action_R, np.zeros(2)):\n",
        "      isNoop = True\n",
        "  else:\n",
        "      isNoop = False\n",
        "  return [target_action_C, target_action_R, isNoop]\n",
        "\n",
        "def agent_action_to_env(agent_action_C, agent_action_R):\n",
        "  target_action = NOOP\n",
        "  for act in ACTION_LIST_Rev:\n",
        "    target_action[act] = 1 if agent_action_C % 2 == 1 else 0\n",
        "    agent_action_C //= 2  # Use integer division to keep agent_action_C as an integer\n",
        "  target_action[\"camera\"] = agent_action_R\n",
        "  return target_action\n",
        "\n",
        "def img_to_tensor(frames, size): # cv2 read in (H,W,C)=(360,640,3)\n",
        "  target_tensor = th.empty((0, 3, size[1], size[0]), dtype = th.float32) # create an uninitialized tensor of the specified shape and data type (float32).\n",
        "  for frame in frames:\n",
        "    #frame = frame[:, 140:500, :] # because video resolution is 360*640*3, crop the size of W from 640 to 360 to make it a square\n",
        "                     # but I think this will lose some information, maybe test it later?\n",
        "    frame = cv2.resize(frame, size)\n",
        "    frame = TF.to_tensor(frame)  # Convert to tensor and scale to [0, 1], also convert to (3, 277, 277)\n",
        "    frame = frame.unsqueeze(0)  # Add a batch dimension # (1, 3, 277, 277s)\n",
        "    target_tensor = th.cat((target_tensor, frame), dim = 0) # (i++, 3, 277, 277)\n",
        "  return target_tensor\n"
      ]
    },
    {
      "cell_type": "markdown",
      "metadata": {
        "id": "1Sp2m0t8xlgP"
      },
      "source": [
        "# SimpleNet"
      ]
    },
    {
      "cell_type": "code",
      "execution_count": 13,
      "metadata": {
        "id": "sWZwQHXuxn6k"
      },
      "outputs": [],
      "source": [
        "# NN architecture\n",
        "\n",
        "class SimpleNet(nn.Module):\n",
        "\n",
        "  def __init__(self, output_size = 256):\n",
        "    super().__init__()\n",
        "    self.conv1 = nn.Conv2d(in_channels = 3, out_channels = 64, kernel_size = 10, stride = 5) # 17 * 31\n",
        "    self.conv2 = nn.Conv2d(in_channels = 64, out_channels = 64, kernel_size = 2, padding = 1) # 17 * 31\n",
        "\n",
        "    self.fc1 = nn.Linear(in_features = 9 * 16 * 64, out_features = 4096)\n",
        "    self.fc2 = nn.Linear(in_features = 4096, out_features = output_size)\n",
        "\n",
        "  def forward(self, input): # 160 * 90 * 3 RGB tensor\n",
        "    x = F.relu(self.conv1(input))\n",
        "    x = F.relu(self.conv2(x))\n",
        "    x = F.max_pool2d(x, kernel_size = 2, stride = 2) # 9 * 16\n",
        "    x = th.flatten(x, start_dim = 1)\n",
        "    x = F.relu(self.fc1(x))\n",
        "    x = self.fc2(x)\n",
        "    return x # int between [0, 255]"
      ]
    },
    {
      "cell_type": "markdown",
      "metadata": {
        "id": "dDdlVhgnUrof"
      },
      "source": [
        "# AlexNet\n",
        "forClassification and forRegression"
      ]
    },
    {
      "cell_type": "code",
      "execution_count": 14,
      "metadata": {
        "id": "zcSSCka07F-h"
      },
      "outputs": [],
      "source": [
        "import torch\n",
        "import torch.nn as nn\n",
        "\n",
        "class AlexNet(nn.Module):\n",
        "    def __init__(self, output_size = 256): # input: batch_size * 3 * 227 * 227 tensor\n",
        "        super().__init__()\n",
        "        self.features = nn.Sequential(\n",
        "            nn.Conv2d(in_channels = 3, out_channels = 96, kernel_size = 11, stride = 4),\n",
        "            nn.PReLU(),\n",
        "            #nn.ReLU(inplace = True),\n",
        "            nn.MaxPool2d(kernel_size = 3, stride = 2),\n",
        "            nn.Conv2d(in_channels = 96, out_channels = 256, kernel_size = 5, padding = 2),\n",
        "            nn.PReLU(),\n",
        "            #nn.ReLU(inplace = True),\n",
        "            nn.MaxPool2d(kernel_size = 3, stride = 2),\n",
        "            nn.Conv2d(in_channels = 256, out_channels = 384, kernel_size = 3, padding = 1),\n",
        "            nn.PReLU(),\n",
        "            #nn.ReLU(inplace = True),\n",
        "            nn.Conv2d(in_channels = 384, out_channels = 384, kernel_size = 3, padding = 1),\n",
        "            nn.PReLU(),\n",
        "            #nn.ReLU(inplace = True),\n",
        "            nn.Conv2d(in_channels = 384, out_channels = 256, kernel_size = 3, padding = 1),\n",
        "            nn.PReLU(),\n",
        "            #nn.ReLU(inplace = True),\n",
        "            nn.MaxPool2d(kernel_size = 3, stride = 2),\n",
        "        )\n",
        "        self.classifier = nn.Sequential(\n",
        "            nn.Linear(in_features = 256*6*6, out_features = 4096),\n",
        "            nn.PReLU(),\n",
        "            #nn.ReLU(inplace = True),\n",
        "            nn.Dropout(0.5),\n",
        "            nn.Linear(in_features = 4096, out_features = 4096),\n",
        "            nn.PReLU(),\n",
        "            #nn.ReLU(inplace = True),\n",
        "            nn.Dropout(0.5),\n",
        "            nn.Linear(in_features = 4096, out_features = output_size),\n",
        "            # nn.Softmax(dim = 1) # Typically softmax is not applied here when using nn.CrossEntropyLoss\n",
        "        )\n",
        "\n",
        "    def forward(self, x): # input: batch_size * 3 * 227 * 227 tensor\n",
        "        x = self.features(x)\n",
        "        x = th.flatten(x, start_dim = 1)\n",
        "        x = self.classifier(x)\n",
        "        return x"
      ]
    },
    {
      "cell_type": "markdown",
      "metadata": {
        "id": "1dJtuw5oTmfA"
      },
      "source": [
        "# FindCave Agent\n",
        "training"
      ]
    },
    {
      "cell_type": "code",
      "execution_count": null,
      "metadata": {
        "colab": {
          "base_uri": "https://localhost:8080/"
        },
        "id": "2bZSALv6Tlif",
        "outputId": "881fd0e7-05eb-4fb2-b2d1-6758bc10ea1e"
      },
      "outputs": [],
      "source": [
        "import random\n",
        "import queue\n",
        "\n",
        "class FindCaveAgent():\n",
        "\n",
        "  def __init__(self, learning_rate = 0.0001, NetC = \"\", NetR = \"\"):\n",
        "\n",
        "    # For Classification (8 button)\n",
        "    if NetC == \"AlexNet\":\n",
        "      self.policyC = AlexNet(output_size = 256).cuda()\n",
        "      self.sizeC = (227, 227)\n",
        "    else:\n",
        "      self.policyC = SimpleNet(output_size = 256).cuda()\n",
        "      self.sizeC = (160, 90)\n",
        "    self.optimizerC = optim.Adam(self.policyC.parameters(), lr = learning_rate)\n",
        "    self.criterionC = nn.CrossEntropyLoss()\n",
        "\n",
        "    # For regression (camera)\n",
        "    if NetC == \"AlexNet\":\n",
        "      self.policyR = AlexNet(output_size = 2).cuda()\n",
        "      self.sizeR = (227, 227)\n",
        "    else:\n",
        "      self.policyR = SimpleNet(output_size = 2).cuda()\n",
        "      self.sizeR = (160, 90)\n",
        "    self.optimizerR = optim.Adam(self.policyR.parameters(), lr = learning_rate)\n",
        "    self.criterionR = nn.MSELoss()\n",
        "\n",
        "  def train(self, batch_size = 64, n_epochs = 10):\n",
        "    self.policyC.train()\n",
        "    self.policyR.train()\n",
        "\n",
        "    video_paths = glob.glob(\"/content/MineRLBasaltFindCave-v0/*.mp4\")\n",
        "    json_paths = [vp.replace(\".mp4\", \".jsonl\") for vp in video_paths]\n",
        "\n",
        "\n",
        "    batch_count = 0\n",
        "    batch_loss_C = 0\n",
        "    batch_loss_R = 0\n",
        "\n",
        "    # testing\n",
        "    test_prev_batch_target_actions_R = []\n",
        "    test_prev_batch_output_R = []\n",
        "    test_prev_batch_frames = []\n",
        "\n",
        "    for epoch in range(n_epochs):\n",
        "      print(f\"Epoch {epoch+1}\")\n",
        "      cap_list = []\n",
        "      json_data_list = []\n",
        "      cur_json_index = []\n",
        "      for video_path, json_path in zip(video_paths, json_paths):\n",
        "        cap_list.append(cv2.VideoCapture(video_path))\n",
        "        with open(json_path) as jf:\n",
        "          json_lines = jf.readlines()\n",
        "          json_data = \"[\" + \",\".join(json_lines) + \"]\"\n",
        "          json_data = json.loads(json_data)\n",
        "          json_data_list.append(json_data)\n",
        "        cur_json_index.append(0)\n",
        "\n",
        "      while len(cap_list) >= batch_size:\n",
        "        batch_cap = random.sample(cap_list, batch_size)\n",
        "        batch_index = [cap_list.index(cap) for cap in batch_cap]\n",
        "\n",
        "        batch_frames = []\n",
        "        batch_cur_json_index = []\n",
        "        batch_target_actions_C = []\n",
        "        batch_target_actions_R = []\n",
        "        for index in batch_index:\n",
        "          frame = cap_list[index].read()[1]\n",
        "          env_action = json_action_to_env_action(json_data_list[index][cur_json_index[index]])[0]\n",
        "          target_action = env_action_to_agent(env_action)\n",
        "          if target_action[2]:\n",
        "            continue\n",
        "          batch_frames.append(frame)\n",
        "          batch_target_actions_C.append(target_action[0])\n",
        "          batch_target_actions_R.append(target_action[1])\n",
        "\n",
        "        if len(batch_frames) > 0:\n",
        "\n",
        "          batch_frames_C = img_to_tensor(batch_frames, self.sizeC).cuda()\n",
        "          batch_frames_R = img_to_tensor(batch_frames, self.sizeR).cuda()\n",
        "\n",
        "          batch_target_actions_C = th.tensor(batch_target_actions_C, dtype=torch.long).cuda()\n",
        "          batch_target_actions_R = th.tensor(batch_target_actions_R, dtype=torch.float).cuda()\n",
        "\n",
        "        # training\n",
        "        self.optimizerC.zero_grad()\n",
        "        batch_output_C = self.policyC(batch_frames_C)\n",
        "        loss_C = self.criterionC(batch_output_C, batch_target_actions_C)\n",
        "        loss_C.backward()\n",
        "        self.optimizerC.step()\n",
        "\n",
        "        self.optimizerR.zero_grad()\n",
        "        batch_output_R = self.policyR(batch_frames_R)\n",
        "        loss_R = self.criterionR(batch_output_R, batch_target_actions_R)\n",
        "        loss_R.backward()\n",
        "        self.optimizerR.step()\n",
        "\n",
        "        # print the average lossC and lossR among 100 batches\n",
        "        batch_loss_C += loss_C.item()\n",
        "        batch_loss_R += loss_R.item()\n",
        "        batch_count += 1\n",
        "        if batch_count % 100 == 0:\n",
        "          #if batch_count % 1000 == 0:\n",
        "          #  print(batch_output_R)\n",
        "          print(f'Batch {batch_count-100} to {batch_count-1}, LossC: {batch_loss_C}, LossR: {batch_loss_R}')\n",
        "          batch_loss_C = 0\n",
        "          batch_loss_R = 0\n",
        "\n",
        "        # deleting if index exceed\n",
        "        del_indices = []\n",
        "        for index in batch_index:\n",
        "          cur_json_index[index] += 1\n",
        "          if cur_json_index[index] >= len(json_data_list[index]):\n",
        "            del_indices.append(index)\n",
        "\n",
        "        del_indices.sort(reverse=True)\n",
        "\n",
        "        for index in del_indices:\n",
        "          cap_list[index].release()\n",
        "          del cap_list[index]\n",
        "          del json_data_list[index]\n",
        "          del cur_json_index[index]\n",
        "\n",
        "      # release the remaining less than batch_size captures in cap_list\n",
        "      for cap in cap_list:\n",
        "        cap.release()\n",
        "\n",
        "  def predict(self, observe):\n",
        "\n",
        "    with th.no_grad():\n",
        "\n",
        "      obs_tensor = img_to_tensor([observe, ], self.sizeC).cuda()\n",
        "      resultC = self.policyC(obs_tensor).squeeze().argmax().cpu().numpy()\n",
        "      obs_tensor = img_to_tensor([observe, ], self.sizeR).cuda()\n",
        "      resultR = self.policyR(obs_tensor).squeeze().cpu().numpy()\n",
        "      env_action = agent_action_to_env(resultC, resultR)\n",
        "\n",
        "      if render:\n",
        "        print(env_action)\n",
        "\n",
        "    return env_action\n",
        "\n",
        "  def save_model_weights(self, path=\"\"):\n",
        "    # Save the state dictionaries of models and optimizers\n",
        "    th.save({\n",
        "        'policyC_state_dict': self.policyC.state_dict(),\n",
        "        'optimizerC_state_dict': self.optimizerC.state_dict(),\n",
        "        'policyR_state_dict': self.policyR.state_dict(),\n",
        "        'optimizerR_state_dict': self.optimizerR.state_dict(),\n",
        "    }, path)\n",
        "\n",
        "  def load_model_weights(self, path=\"\"):\n",
        "    # Load the state dictionaries of models and optimizers\n",
        "    checkpoint = th.load(path)\n",
        "    self.policyC.load_state_dict(checkpoint['policyC_state_dict'])\n",
        "    self.optimizerC.load_state_dict(checkpoint['optimizerC_state_dict'])\n",
        "    self.policyR.load_state_dict(checkpoint['policyR_state_dict'])\n",
        "    self.optimizerR.load_state_dict(checkpoint['optimizerR_state_dict'])\n",
        "'''\n",
        "TA = FindCaveAgent(learning_rate = 0.001, NetC = \"AlexNet\", NetR = \"AlexNet\")\n",
        "TA.train(batch_size = 64, n_epochs = 10)\n",
        "TA.save_model_weights(path=\"/content/drive/MyDrive/pythonLib/minerl_weights_lr_0_001_NetC_AlexNet_NetR_AlexNet.pth\")\n",
        "TA = FindCaveAgent(learning_rate = 0.001, NetC = \"SimpleNet\", NetR = \"SimpleNet\")\n",
        "TA.train(batch_size = 64, n_epochs = 10)\n",
        "TA.save_model_weights(path=\"/content/drive/MyDrive/pythonLib/minerl_weights_lr_0_001_NetC_SimpleNet_NetR_SimpleNet.pth\")\n",
        "TA = FindCaveAgent(learning_rate = 0.00055, NetC = \"SimpleNet\", NetR = \"SimpleNet\")\n",
        "TA.train(batch_size = 64, n_epochs = 10)\n",
        "TA.save_model_weights(path=\"/content/drive/MyDrive/pythonLib/minerl_weights_lr_0_00055_NetC_SimpleNet_NetR_SimpleNet.pth\")\n",
        "'''\n",
        "TA = FindCaveAgent(learning_rate = 0.0001, NetC = \"SimpleNet\", NetR = \"SimpleNet\")\n",
        "TA.train(batch_size = 64, n_epochs = 10)\n",
        "TA.save_model_weights(path=\"/content/drive/MyDrive/pythonLib/minerl_weights_lr_0_0001_NetC_SimpleNet_NetR_SimpleNet.pth\")"
      ]
    },
    {
      "cell_type": "code",
      "execution_count": null,
      "metadata": {
        "id": "q_xd9pkZhecd"
      },
      "outputs": [],
      "source": [
        "#from google.colab import runtime\n",
        "#runtime.unassign()"
      ]
    },
    {
      "cell_type": "markdown",
      "metadata": {
        "id": "8fApEwS-LX5b"
      },
      "source": [
        "# testing"
      ]
    },
    {
      "cell_type": "code",
      "execution_count": 21,
      "metadata": {
        "id": "hHoxm1nqwlyU"
      },
      "outputs": [],
      "source": [
        "def create_video(frames, count, path = \"/content/drive/MyDrive/AIFinalResult\", name = \"myVideo\"):\n",
        "  if not os.path.isdir(path):\n",
        "    os.mkdir(path)\n",
        "  video_name = f\"{name}{count}\"\n",
        "  width = frames[0].shape[1]\n",
        "  height = frames[0].shape[0]\n",
        "  fourcc = cv2.VideoWriter_fourcc(*'MP4V')\n",
        "  out = cv2.VideoWriter(path + \"/\" + video_name + \".mp4\", fourcc, 20, (width, height))\n",
        "  for frame in frames:\n",
        "    out.write(cv2.cvtColor(frame, cv2.COLOR_RGB2BGR))\n",
        "  out.release()"
      ]
    },
    {
      "cell_type": "code",
      "execution_count": null,
      "metadata": {
        "colab": {
          "base_uri": "https://localhost:8080/",
          "height": 408
        },
        "id": "HycSwYdILg_d",
        "outputId": "8d18e347-0f68-40fc-a18c-eed101c6c678"
      },
      "outputs": [],
      "source": [
        "\n",
        "env = gym.make(\"MineRLBasaltFindCave-v0\")\n",
        "\n",
        "disp = Display(visible=0, backend=\"xvfb\")\n",
        "disp.start();\n",
        "\n",
        "\n",
        "\n",
        "import gym\n",
        "import matplotlib.pyplot as plt\n",
        "\n",
        "def testing(agent, env, render=False, video_count=0):\n",
        "\n",
        "    obs = env.reset()\n",
        "    pov = obs[\"pov\"]\n",
        "\n",
        "    img_buffer = []\n",
        "\n",
        "    done = False\n",
        "    cumulative_reward = 0\n",
        "\n",
        "    while not done and len(img_buffer) < 2000:\n",
        "        ac = agent.predict(pov)\n",
        "        obs, reward, done, info = env.step(ac)\n",
        "        pov = obs[\"pov\"]\n",
        "\n",
        "        cumulative_reward += reward\n",
        "\n",
        "        if render:\n",
        "            plt.imshow(pov)\n",
        "            plt.show()\n",
        "            plt.clf()  # Important to reduce the usage of RAM\n",
        "\n",
        "        if video:\n",
        "          img_buffer.append(cv2.resize(pov, (480, 270))) # Can adjust the size of frame to reduce RAM, original size is (640, 360)\n",
        "\n",
        "\n",
        "    if video:\n",
        "        create_video(img_buffer, video_count)\n",
        "    del img_buffer\n",
        "\n",
        "    print(f\"Total Cumulative Reward: {cumulative_reward}\")\n",
        "    return cumulative_reward\n",
        "\n",
        "\n",
        "render = False\n",
        "video = True\n",
        "num_runs = 10\n",
        "cumulative_rewards = []\n",
        "\n",
        "for i in range(num_runs):\n",
        "    cumulative_reward = testing(TA, env, render=render, video_count = i)\n",
        "    cumulative_rewards.append(cumulative_reward)\n",
        "\n",
        "average_cumulative_reward = sum(cumulative_rewards) / num_runs\n",
        "print(f\"Average Cumulative Reward over {num_runs} runs: {average_cumulative_reward}\")\n"
      ]
    },
    {
      "cell_type": "markdown",
      "metadata": {
        "id": "1iUjLVb4LSg3"
      },
      "source": [
        "# Others"
      ]
    },
    {
      "cell_type": "code",
      "execution_count": null,
      "metadata": {
        "id": "UmalpPQeHy0X"
      },
      "outputs": [],
      "source": [
        "disp = Display(visible=0, backend=\"xvfb\") #註 set up a virtual display, allows the minecraft backend to writh to something\n",
        "                       #  even though colab does not have an actual display\n",
        "disp.start();"
      ]
    },
    {
      "cell_type": "code",
      "execution_count": null,
      "metadata": {
        "id": "NXMu7Ek5x6nl"
      },
      "outputs": [],
      "source": [
        "env = gym.make(\"MineRLBasaltFindCave-v0\") #註 one of the environments: find a cave"
      ]
    },
    {
      "cell_type": "code",
      "execution_count": null,
      "metadata": {
        "id": "h7BT_7Ss9HBl"
      },
      "outputs": [],
      "source": [
        "env.action_space.sample().keys()  #註 action space that the minecraft agent can do"
      ]
    },
    {
      "cell_type": "code",
      "execution_count": null,
      "metadata": {
        "id": "b6HkWKSIJgL1"
      },
      "outputs": [],
      "source": [
        "# Have a look at a few actions we might do:\n",
        "for _ in range(10):\n",
        "  print( env.action_space.sample() )"
      ]
    },
    {
      "cell_type": "code",
      "execution_count": null,
      "metadata": {
        "id": "qs9o7KW-tUcq"
      },
      "outputs": [],
      "source": [
        "t0=time.time()\n",
        "obs = env.reset()  # First obs is thrown away...\n",
        "            #註 reset the environment\n",
        "print(f\"{(time.time()-t0):.2f}sec for env.reset\")\n",
        "# 275.65sec = 4mins for first time, 80.73sec second time (due to compilation of java files?)"
      ]
    },
    {
      "cell_type": "code",
      "execution_count": null,
      "metadata": {
        "id": "n3FGwWZ489mT"
      },
      "outputs": [],
      "source": [
        "# Now that Steve has been spawned, do some actions...\n",
        "t0=time.time()\n",
        "\n",
        "done, iter = False, 0\n",
        "while not done:\n",
        "    ac = env.action_space.noop() #註 'ac' is initialized with a no-operation action('noop')\n",
        "    # Spin around to see what is around us\n",
        "    ac[\"camera\"] = [0, 0]  # (pitch, yaw) deltas in degrees : +30 => turn to right\n",
        "    ac['attack'] = [1]\n",
        "\n",
        "    t1=time.time()\n",
        "    obs, reward, done, info = env.step(ac) #註 obs is 'next observation'\n",
        "    #print(obs, reward, info)  # NB: Yikes : obs is only the image!\n",
        "    #  obs = Dict(pov:Box(low=0, high=255, shape=(360, 640, 3)))\n",
        "    #print(pov.shape) # (360, 640, 3)  Image spec agrees with docs!\n",
        "    print(f\"{(time.time()-t1):.2f}sec for env.step\")  # Approx 0.25sec per step\n",
        "\n",
        "    pov = obs[\"pov\"] #註 pov(point of view) is an image which is extracted from the obs(observation)\n",
        "\n",
        "    #env.render()  # This does an internal cv2.imshow that colab rejects\n",
        "    #cv2_imshow(pov[:, :, ::-1])\n",
        "    #cv2.waitKey(1)\n",
        "\n",
        "    plt.imshow(pov) #註 在圖表中繪製圖片(繪製pov)\n",
        "    plt.show() #註 顯示圖表\n",
        "    iter +=1\n",
        "    if iter>12: done=True\n",
        "\n",
        "f\"{(time.time()-t0):.2f}sec for whole spin\""
      ]
    },
    {
      "cell_type": "code",
      "execution_count": null,
      "metadata": {
        "id": "ytLkHyBow1Ct"
      },
      "outputs": [],
      "source": [
        "# Set up a simple testing function\n",
        "def action_step(action):\n",
        "  ac = env.action_space.noop()\n",
        "  ac.update(action)\n",
        "  obs, reward, done, info = env.step(ac)\n",
        "  plt.imshow(obs[\"pov\"])\n",
        "  plt.show()"
      ]
    },
    {
      "cell_type": "code",
      "execution_count": null,
      "metadata": {
        "id": "p9hUkcZhuObe"
      },
      "outputs": [],
      "source": [
        "action_step({})\n",
        "action_step(dict(inventory=[1]))\n",
        "action_step(dict(camera=[0, +30]))\n",
        "action_step(dict(camera=[-10, -30]))\n",
        "action_step(dict(camera=[+10, 0]))\n",
        "action_step(dict(inventory=[1]))  # Put inventory away? = Yes, if it is showing"
      ]
    },
    {
      "cell_type": "code",
      "execution_count": null,
      "metadata": {
        "id": "taCclVGyuSuZ"
      },
      "outputs": [],
      "source": [
        "#action_step({'inventory':[1]})  # Put inventory away? = NOT jump, sneak, use, hotbar.X, back\n",
        "action_step({})  # NOOP"
      ]
    },
    {
      "cell_type": "code",
      "execution_count": null,
      "metadata": {
        "id": "ssp9BtYZ3u4g"
      },
      "outputs": [],
      "source": [
        "# Set up a simple calibration function\n",
        "import cv2\n",
        "from google.colab.patches import cv2_imshow\n",
        "\n",
        "def action_step_calibrate(x_off,y_off):\n",
        "  ac = env.action_space.noop()\n",
        "  ac.update(dict(camera=[y_off, x_off]))\n",
        "  obs, reward, done, info = env.step(ac)\n",
        "  im = obs[\"pov\"][100:250, 200:400,:]\n",
        "  cv2_imshow(cv2.cvtColor(im, cv2.COLOR_RGB2BGR))\n",
        "  ac = env.action_space.noop()\n",
        "  ac.update(dict(camera=[-y_off, -x_off]))  # Move back\n",
        "  obs, reward, done, info = env.step(ac)"
      ]
    },
    {
      "cell_type": "code",
      "execution_count": null,
      "metadata": {
        "id": "ung8m4tp3ueX"
      },
      "outputs": [],
      "source": [
        "action_step({})\n",
        "action_step(dict(inventory=[1]))\n",
        "\n",
        "action_step_calibrate(0, 0)\n",
        "for x_off in [+0.62, +1.61, +3.22, +5.81, +10.0]:\n",
        "  print(f\"x_off={x_off}\")\n",
        "  action_step_calibrate(x_off,0)\n",
        "  action_step_calibrate(-x_off,0)\n",
        "for y_off in [+0.62, +1.61, +3.22, +5.81, +10.0]:\n",
        "  print(f\"y_off={y_off}\")\n",
        "  action_step_calibrate(0, y_off)\n",
        "  action_step_calibrate(0, -y_off)\n",
        "\n",
        "action_step(dict(inventory=[1]))  # Put inventory away? = Yes, if it is showing"
      ]
    },
    {
      "cell_type": "code",
      "execution_count": null,
      "metadata": {
        "id": "t6Hu5elxuluu"
      },
      "outputs": [],
      "source": [
        "! nvidia-smi"
      ]
    },
    {
      "cell_type": "code",
      "execution_count": null,
      "metadata": {
        "id": "pvxBJAcA73fv"
      },
      "outputs": [],
      "source": [
        "env.close()"
      ]
    },
    {
      "cell_type": "code",
      "execution_count": null,
      "metadata": {
        "id": "ERSdDSW61fnw"
      },
      "outputs": [],
      "source": [
        "disp.stop();"
      ]
    },
    {
      "cell_type": "code",
      "execution_count": null,
      "metadata": {
        "id": "LO__56dWX3en"
      },
      "outputs": [],
      "source": [
        "# THE END! - We'll be using this set-up in the future!"
      ]
    }
  ],
  "metadata": {
    "accelerator": "GPU",
    "colab": {
      "gpuType": "A100",
      "machine_shape": "hm",
      "provenance": []
    },
    "kernelspec": {
      "display_name": "Python 3",
      "name": "python3"
    },
    "language_info": {
      "name": "python"
    }
  },
  "nbformat": 4,
  "nbformat_minor": 0
}
