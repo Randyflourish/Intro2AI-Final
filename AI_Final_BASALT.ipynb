{
  "cells": [
    {
      "cell_type": "markdown",
      "metadata": {
        "id": "view-in-github",
        "colab_type": "text"
      },
      "source": [
        "<a href=\"https://colab.research.google.com/github/Randyflourish/Intro2AI-Final/blob/main/AI_Final_BASALT.ipynb\" target=\"_parent\"><img src=\"https://colab.research.google.com/assets/colab-badge.svg\" alt=\"Open In Colab\"/></a>"
      ]
    },
    {
      "cell_type": "markdown",
      "metadata": {
        "id": "Pxwl_yG1qhR7"
      },
      "source": [
        "<div style=\"text-align: center\">\n",
        "  <img src=\"https://github.com/KarolisRam/MineRL2021-Intro-baselines/blob/main/img/colab_banner.png?raw=true\">\n",
        "</div>"
      ]
    },
    {
      "cell_type": "markdown",
      "metadata": {
        "id": "-_BGlQwngccr"
      },
      "source": [
        "# Introduction\n",
        "This notebook is the installation part for the [MineRL 2022](https://minerl.io/) competition, building on the original introductory notebooks created for the MineRL 2021 competition.\n",
        "\n",
        "## Note: About this file\n",
        "\n",
        "This file is updated by NYCU 2024 Spring Intro2AI Team 11: まふまふ.\n",
        "The original file is come from [here](https://colab.research.google.com/drive/1rJ3lGy-bG7kJRe_wYBWg7fjSaD9oOMDw?usp=sharing)\n",
        "\n",
        "## There's a video to explain...\n",
        "Please visit [this intro YouTube video](https://youtu.be/8yIrWcyWGek) to see some background information.  Hopefully, this will lead to a number of additional videos that explore what can be done in this environment...\n",
        "\n",
        "And if you see me=@mdda online, then please say \"Hi!\"\n",
        "\n",
        "## Software 2.0\n",
        "The approach we are going to use, where we took some human written code and replaced it with an AI component is quite similar to how Tesla approaches self driving cars. See this talk by Andrej Karpathy, Director of AI at Tesla:  \n",
        "[Building the Software 2.0 Stack](https://databricks.com/session/keynote-from-tesla)\n"
      ]
    },
    {
      "cell_type": "markdown",
      "metadata": {
        "id": "ysSTXmT3YUeF"
      },
      "source": [
        "# Setup"
      ]
    },
    {
      "cell_type": "code",
      "execution_count": null,
      "metadata": {
        "id": "_HTScYNljgXv"
      },
      "outputs": [],
      "source": [
        "%%capture\n",
        "!sudo add-apt-repository -y ppa:openjdk-r/ppa\n",
        "!sudo apt-get purge openjdk-*\n",
        "!sudo apt-get install openjdk-8-jdk\n",
        "!sudo apt-get install xvfb xserver-xephyr vnc4server python-opengl ffmpeg\n",
        "# Takes ~1min to run this\n",
        "# New Add\n",
        "!sudo apt-get install -y xvfb  # Install Xvfb"
      ]
    },
    {
      "cell_type": "code",
      "execution_count": null,
      "metadata": {
        "id": "xh6gb3UWjT3p"
      },
      "outputs": [],
      "source": [
        "# This takes ~22mins - which would hit us every time we start Colab\n",
        "#   So we'll do it once, and store a '.tar.gz' of the installation into our\n",
        "#   Google Drive, so that we can get it back much quicker the second time!\n",
        "\n",
        "##%%capture\n",
        "##!pip3 install --upgrade minerl # Default is 0.4.4, we want 1.0.0 for VPT\n",
        "##!pip3 uninstall minerl\n",
        "#!pip3 install git+https://github.com/minerllabs/minerl@v1.0.0\n",
        "#\n",
        "#!pip3 install pyvirtualdisplay\n",
        "#!pip3 install -U colabgymrender"
      ]
    },
    {
      "cell_type": "code",
      "execution_count": null,
      "metadata": {
        "id": "sV7hXcp1vgj6"
      },
      "outputs": [],
      "source": [
        "import os, sys, time\n",
        "\n",
        "mine_env = 'mine_env'\n",
        "mine_env_full = f'/content/{mine_env}'\n",
        "mine_tar = f'{mine_env}.tar.gz'\n",
        "\n",
        "if mine_env_full not in sys.path:\n",
        "  sys.path.insert(0, mine_env_full)\n",
        "  os.environ['PYTHONPATH'] += f':{mine_env_full}'\n",
        "\n",
        "mine_env, mine_env_full, mine_tar"
      ]
    },
    {
      "cell_type": "code",
      "execution_count": null,
      "metadata": {
        "id": "uvUh7yQ36RjQ"
      },
      "outputs": [],
      "source": [
        "# We'll connect to our Google Drive here, and see whether we've already saved off a copy\n",
        "#   This will ask permission to 'connect to your drive' : The answer is 'Yes'!\n",
        "MINE_ENV_IS_NEW = True\n",
        "\n",
        "from google.colab import drive  # google.colab contains functions specifically for interacting with Google Colab's environment.\n",
        "drive.mount('/content/drive')    # mounts your Google Drive as a local file system\n",
        "if os.path.isfile(f'/content/drive/MyDrive/pythonLib/{mine_tar}'): # check if \"mine_env.tar.gz\" is in your Google Drive\n",
        "  ! cp /content/drive/MyDrive/pythonLib/$mine_tar ./$mine_tar  # ! means the command is to be executed in the shell rather than as Python code.\n",
        "                                              # This command copies the file from your Google Drive to the current working directory of the Colab notebook.\n",
        "\n",
        "  ! ls -l ./$mine_tar                         # This lists the file details such as permissions, owner, size, and modification date for the copied file in the current directory.\n",
        "                                              # It helps verify that the file has been copied correctly and shows its properties.\n",
        "  # e.g.: -rw------- 1 root root 1510118446 Jun 26 08:48 ./mine_env.tar.gz\n",
        "\n",
        "  # ! tar -tzf ./$mine_tar | grep minerl | head -5    # list some contents of the compressed tar file without extracting it\n",
        "  ! tar -xzf ./$mine_tar    # This extracts the contents of the tar file into the current directory\n",
        "\n",
        "  MINE_ENV_IS_NEW = False\n",
        "  # Takes 1min too (huge saving!)\n",
        "\n",
        "sys.path.append('/content/drive/MyDrive/pythonLib')\n",
        "sys.path.append('/content/drive/MyDrive/pythonLib/VPT')\n",
        "\n",
        "\"DONE\""
      ]
    },
    {
      "cell_type": "code",
      "execution_count": null,
      "metadata": {
        "id": "BdFxcyLg2DqL"
      },
      "outputs": [],
      "source": [
        "# Check default packages (execute if needed)\n",
        "!pip3 list"
      ]
    },
    {
      "cell_type": "code",
      "execution_count": null,
      "metadata": {
        "id": "n7ZYcRvnvq6y"
      },
      "outputs": [],
      "source": [
        "# Build the mine_env if necessary\n",
        "try:\n",
        "  from pyvirtualdisplay import Display\n",
        "except :\n",
        "  !pip3 install --target=$mine_env git+https://github.com/minerllabs/minerl@v1.0.2   # 21 mins\n",
        "  # https://stackoverflow.com/questions/55833509/attributeerror-type-object-callable-has-no-attribute-abc-registry\n",
        "  !mv $mine_env/typing.py $mine_env/MEH-typing.py  # Fix for Python3.7 ...\n",
        "\n",
        "  !pip3 install --target=$mine_env pyvirtualdisplay  # 4 secs  #注 Display creates a virtual framebuffer that graphical applications can use to render output as if they were using a real monitor.\n",
        "                                                              #注 This allows you to run applications that require a GUI without having an actual GUI environment installed on the system.\n",
        "  !pip3 install --target=$mine_env --upgrade colabgymrender # 22 secs  #注 colabgymrender provides a workaround by capturing the graphical output of the environment and displaying it within the notebook.\n",
        "\n",
        "  MINE_ENV_IS_NEW = True\n",
        "  # NB: some restart notices in the output ... but there's no need to restart!\n",
        "  #     In any case, please wait for the 'DONE' message to print out\n",
        "f\"DONE, with MINE_ENV_IS_NEW={MINE_ENV_IS_NEW}\""
      ]
    },
    {
      "cell_type": "code",
      "execution_count": null,
      "metadata": {
        "id": "iNj2G3933yVu"
      },
      "outputs": [],
      "source": [
        "# check content of mine_env (execute if needed)\n",
        "! du -b mine_env | tail -5  # mine_env = ~ 2,094,031,775 bytes overall (a little bit less)"
      ]
    },
    {
      "cell_type": "code",
      "execution_count": null,
      "metadata": {
        "id": "KOxO92nU4C8Q"
      },
      "outputs": [],
      "source": [
        "# Build new env.tar.gz file in google drive (execute if needed)\n",
        "if MINE_ENV_IS_NEW: #  or True\n",
        "  # ! ls -l /gdrive/MyDrive/mine*\n",
        "  ! rm -f ./$mine_tar   #注 removes the existing tar.gz archive of the environment, if any, from the current directory.\n",
        "  ! tar -czf ./$mine_tar $mine_env  #注 This command creates a new compressed (gzipped) tar archive of the directory specified by the $mine_env variable (the environment directory).\n",
        "  ! ls -l ./$mine_tar\n",
        "  # Without running the env...\n",
        "  # -rw-r--r-- 1 root root 1505020174 Jun 26 07:26 ./mine_env.tar.gz\n",
        "  # Once the minerl env has been reset once (i.e. java has built...)\n",
        "  # -rw------- 1 root root 1511976116 Jun 26 08:43 ./mine_env.tar.gz\n",
        "  ! tar -tzf ./$mine_tar | head\n",
        "  ! cp ./$mine_tar /content/drive/MyDrive/pythonLib/  #注 This copies the newly created archive to a Google Drive directory.\n",
        "  ! ls -l /content/drive/MyDrive/pythonLib/$mine_tar\n",
        "\"DONE\""
      ]
    },
    {
      "cell_type": "markdown",
      "metadata": {
        "id": "ADmrUKxvYXGa"
      },
      "source": [
        "# Import Libraries"
      ]
    },
    {
      "cell_type": "code",
      "execution_count": null,
      "metadata": {
        "id": "g8_vZpMFpiD9"
      },
      "outputs": [],
      "source": [
        "import os   # For interacting with the operating system.\n",
        "import time\n",
        "\n",
        "import numpy as np  # For numerical operations.\n",
        "\n",
        "import gym    # To create and manage environments based on the OpenAI Gym toolkit.\n",
        "import minerl\n",
        "\n",
        "from tqdm.notebook import tqdm  # For displaying progress bars in Jupyter notebooks.\n",
        "from colabgymrender.recorder import Recorder # To facilitate rendering of Gym environments in Google Colab.\n",
        "from pyvirtualdisplay import Display # To create a virtual display to render environments in a headless server or environment like Google Colab.\n",
        "\n",
        "import logging\n",
        "logging.disable(logging.ERROR) # reduce clutter, remove if something doesn't work to see the error logs.\n",
        "\n",
        "np.__version__  # '1.21.6' => that this is reading from our ~/mine_env directory\n",
        "# Numpy version may be different from the content above\n",
        "# About warning: since warning is in a local package, so if error occurs, please comment the specific line\n",
        "\n",
        "import cv2\n",
        "#from google.colab.patches import cv2_imshow\n",
        "#from PIL import Image\n",
        "import matplotlib.pylab as plt\n",
        "\n",
        "import glob\n",
        "import json\n",
        "import torch as th\n",
        "import torchvision.transforms.functional as TF\n",
        "from torch import nn\n",
        "from torch.nn import functional as F\n",
        "from torch import optim\n",
        "from run_inverse_dynamics_model import json_action_to_env_action"
      ]
    },
    {
      "cell_type": "markdown",
      "metadata": {
        "id": "4QwEA7yJ6Ail"
      },
      "source": [
        "# Download Dataset"
      ]
    },
    {
      "cell_type": "code",
      "execution_count": null,
      "metadata": {
        "id": "J0u4GNgalm8B"
      },
      "outputs": [],
      "source": [
        "from download_dataset import download_file\n",
        "download_file(400) # default is 400, about 40 GB?"
      ]
    },
    {
      "cell_type": "markdown",
      "metadata": {
        "id": "qjkM-WKjCSGx"
      },
      "source": [
        "# Construct Inverse Dynamic Model Agent\n",
        "\n",
        "Optimal"
      ]
    },
    {
      "cell_type": "code",
      "execution_count": null,
      "metadata": {
        "id": "ehehsdr8CaG-"
      },
      "outputs": [],
      "source": [
        "from inverse_dynamics_model import load_IDM_agent\n",
        "IDMAgent = load_IDM_agent()"
      ]
    },
    {
      "cell_type": "code",
      "execution_count": null,
      "metadata": {
        "id": "oh2aHrFCHrMm"
      },
      "outputs": [],
      "source": [
        "# Test for IDMAgent\n",
        "from agent import ENV_KWARGS # need to modify\n",
        "required_resolution = ENV_KWARGS[\"resolution\"]\n",
        "files = glob.glob(\"/content/MineRLBasaltFindCave-v0/*.mp4\")\n",
        "video_path = files[0]\n",
        "json_path = video_path.replace(\".mp4\", \".jsonl\")\n",
        "\n",
        "cap = cv2.VideoCapture(video_path)\n",
        "frames = []\n",
        "\n",
        "json_index = 0\n",
        "with open(json_path) as json_file:\n",
        "  json_lines = json_file.readlines()\n",
        "  json_data = \"[\" + \",\".join(json_lines) + \"]\"\n",
        "  json_data = json.loads(json_data)\n",
        "\n",
        "for _ in range(5000):\n",
        "  ret, frame = cap.read()\n",
        "  break\n",
        "  if not ret:\n",
        "    break\n",
        "  assert frame.shape[0] == required_resolution[1] and frame.shape[1] == required_resolution[0], \"Video must be of resolution {}\".format(required_resolution)\n",
        "  # BGR -> RGB\n",
        "  frames.append(frame[..., ::-1])\n",
        "  break\n",
        "  if len(frames) == 100 or len(frames) == 50:\n",
        "    l = len(frames)\n",
        "    fs = np.stack(frames)\n",
        "    predicted_actions = IDMAgent.predict_actions(fs)\n",
        "    for i in range(50):\n",
        "      env_action, _ = json_action_to_env_action(json_data[json_index])\n",
        "      json_index += 1\n",
        "      for y, (action_name, action_array) in enumerate(predicted_actions.items()):\n",
        "        print(f\"{action_name}: {action_array[0, (l - 50 + i)]} ({env_action[action_name]}), \", end = \"\")\n",
        "      print(\"\\n\")\n",
        "    frames = frames[50:99]\n",
        "\n",
        "predicted_actions = IDMAgent.predict_actions(fs)\n",
        "l = len(frames)\n",
        "for i in range(50, l):\n",
        "  env_action, _ = json_action_to_env_action(json_data[json_index])\n",
        "  json_index += 1\n",
        "  for y, (action_name, action_array) in enumerate(predicted_actions.items()):\n",
        "    print(f\"{action_name}: {action_array[0, (l - 50 + i)]} ({env_action[action_name]}), \", end = \"\")\n",
        "  print(\"\\n\")"
      ]
    },
    {
      "cell_type": "markdown",
      "source": [
        "# Neural Nwtwork for BC"
      ],
      "metadata": {
        "id": "oLbtef0sWjd0"
      }
    },
    {
      "cell_type": "code",
      "source": [
        "# transform of env action and agent action\n",
        "env = gym.make(\"MineRLBasaltFindCave-v0\")\n",
        "\n",
        "NOOP = env.action_space.no_op()\n",
        "\n",
        "# binary encoding of env_action\n",
        "# forward, back, left, right, sneak, sprint(run), jump, ESC = 2^7, ..., 2^0\n",
        "ACTION_LIST = [\"forward\", \"back\", \"left\", \"right\", \"sneak\", \"sprint\", \"jump\", \"ESC\"]\n",
        "\n",
        "device = th.device(\"cuda\" if th.cuda.is_available() else \"cpu\")\n",
        "print(device)"
      ],
      "metadata": {
        "id": "rB1zhE3OVlCr"
      },
      "execution_count": null,
      "outputs": []
    },
    {
      "cell_type": "code",
      "source": [
        "def env_action_to_agent(env_action: dict):\n",
        "  target_action_C = int(0)\n",
        "  target_action_R = env_action[\"camera\"]\n",
        "  for act in ACTION_LIST:\n",
        "    target_action_C *= 2\n",
        "    target_action_C += 1 if env_action[act] == 1 else 0\n",
        "  if target_action_C == 0 and target_action_R == np.zero(2):\n",
        "    isNoop = True\n",
        "  else:\n",
        "    isNoop = False\n",
        "  return [target_action_C, target_action_R, isNoop]\n",
        "\n",
        "def agent_action_to_env(agent_action_C, agent_action_R):\n",
        "  target_action = NOOP\n",
        "  ACTION_LIST_Rev = ACTION_LIST.copy()\n",
        "  ACTION_LIST_Rev.reverse()\n",
        "  for act in ACTION_LIST_Rev:\n",
        "    target_action[act] = 1 if agent_action_C % 2 == 1 else 0\n",
        "    agent_action_C /= 2\n",
        "  target_action[\"camera\"] = agent_action_R\n",
        "  return target_action\n",
        "\n",
        "def img_to_tensor(frames):\n",
        "  target_tensor = th.empty((0, 3, 227, 227), dtype = th.float32)\n",
        "  for frame in frames:\n",
        "    frame = cv2.resize(frame, (227, 227))\n",
        "    frame = TF.to_tensor(frame).unsqueeze(0)\n",
        "    target_tensor = th.cat((target_tensor, frame), dim = 0)\n",
        "  return target_tensor"
      ],
      "metadata": {
        "id": "ArhNtTR4CELK"
      },
      "execution_count": null,
      "outputs": []
    },
    {
      "cell_type": "code",
      "source": [
        "# TODO: add parent class: AlexNet\n",
        "\n",
        "class AlexNet(nn.Module):\n",
        "\n",
        "  def __init__(self, output_size = 256):\n",
        "    super().__init__()\n",
        "    self.conv1 = nn.Conv2d(in_channels = 3, out_channels = 96, kernel_size = 11, stride = 4)\n",
        "    self.conv2 = nn.Conv2d(in_channels = 96, out_channels = 256, kernel_size = 5, padding = 2)\n",
        "    self.conv3 = nn.Conv2d(in_channels = 256, out_channels = 384, kernel_size = 3, padding = 1)\n",
        "    self.conv4 = nn.Conv2d(in_channels = 384, out_channels = 384, kernel_size = 3, padding = 1)\n",
        "    self.conv5 = nn.Conv2d(in_channels = 384, out_channels = 256, kernel_size = 3, padding = 1)\n",
        "\n",
        "    self.dropout = nn.Dropout(0.5)\n",
        "\n",
        "    self.fc1 = nn.Linear(in_features = 256*6*6, out_features = 4096)\n",
        "    self.fc2 = nn.Linear(in_features = 4096, out_features = 4096)\n",
        "    self.fc3 = nn.Linear(in_features = 4096, out_features = output_size)\n",
        "\n",
        "  def forward(self, input): # 227 * 227 * 3 RGB tensor\n",
        "    x = F.relu(self.conv1(input))\n",
        "    x = F.max_pool2d(x, kernel_size = 3, stride = 2)\n",
        "    x = F.relu(self.conv2(x))\n",
        "    x = F.max_pool2d(x, kernel_size = 3, stride = 2)\n",
        "    x = F.relu(self.conv3(x))\n",
        "    x = F.relu(self.conv4(x))\n",
        "    x = F.relu(self.conv5(x))\n",
        "    x = F.max_pool2d(x, kernel_size = 3, stride = 2)\n",
        "    x = th.flatten(x, start_dim = 1)\n",
        "    x = F.relu(self.fc1(x))\n",
        "    x = self.dropout(x)\n",
        "    x = F.relu(self.fc2(x))\n",
        "    x = self.dropout(x)\n",
        "    x = self.fc3(x)\n",
        "    return x # int between [0, 255]\n"
      ],
      "metadata": {
        "id": "6fAC6-q9WqQm"
      },
      "execution_count": null,
      "outputs": []
    },
    {
      "cell_type": "markdown",
      "source": [
        "# FindCave Agent"
      ],
      "metadata": {
        "id": "_j77xXWrK_33"
      }
    },
    {
      "cell_type": "code",
      "source": [
        "# TODO: train and test func\n",
        "\n",
        "class FindCaveAgent():\n",
        "\n",
        "  def __init__(self, learning_rate = 0.001):\n",
        "\n",
        "    # For Classification (8 button)\n",
        "    self.policyC = AlexNet(output_size = 256)\n",
        "    self.optimizerC = optim.Adam(self.policyC.parameters(), lr = learning_rate).to(device)\n",
        "    self.lossCFunc = nn.CrossEntropyLoss()\n",
        "\n",
        "    # For regression (camera)\n",
        "    self.policyR = AlexNet(output_size = 2)\n",
        "    self.optimizerR = optim.Adam(self.policyR.parameters(), lr = learning_rate).to(device)\n",
        "    self.lossRFunc = nn.MSELoss()\n",
        "\n",
        "  def train(self, batch_size = 20):\n",
        "\n",
        "    video_src = glob.glob(\"/content/MineRLBasaltFindCave-v0/*.mp4\")\n",
        "    vcaps = []\n",
        "    vlength = []\n",
        "    action_data = []\n",
        "    action_index = 0\n",
        "    counter = 0\n",
        "    random_video = np.random.randint(len(video_src), size = batch_size)\n",
        "    for x in random_video:\n",
        "      vcaps.append(cv2.VideoCapture(video_src[x]))\n",
        "      vlength.append(int(vcaps[-1].get(7)) - 1)\n",
        "      with open(video_src[x].replace(\".mp4\", \".jsonl\")) as json_file:\n",
        "        json_lines = json_file.readlines()\n",
        "        json_data = \"[\" + \",\".join(json_lines) + \"]\"\n",
        "        json_data = json.loads(json_data)\n",
        "        action_data.append(json_data)\n",
        "    while len(vcaps) != 0:\n",
        "      counter += 1\n",
        "      if counter % 20 == 0:\n",
        "        print(counter)\n",
        "      if action_index == 3000:\n",
        "        break\n",
        "      frames = np.array([vcap.read()[1] for vcap in vcaps])\n",
        "      actionsC = np.empty(batch_size)\n",
        "      actionsR = np.empty((batch_size, 2))\n",
        "      pop_cap = []\n",
        "      for i in range(batch_size):\n",
        "        if action_index < vlength[i]:\n",
        "          actions = env_action_to_agent(json_action_to_env_action(action_data[i][action_index])[0])\n",
        "          actionsC[i] = actions[0]\n",
        "          actionsR[i] = actions[1]\n",
        "        else:\n",
        "          actionsC[i] = 1\n",
        "          actionsR[i] = [0, 0]\n",
        "          pop_cap.append(i)\n",
        "      if len(pop_cap) > 0:\n",
        "        pop_cap.reverse()\n",
        "        for i in pop_cap:\n",
        "          vcaps[i].release()\n",
        "          vcaps.pop(i)\n",
        "          vlength.pop(i)\n",
        "          action_data.pop(i)\n",
        "          batch_size -= 1\n",
        "      frames_tensor = img_to_tensor(frames).to(device)\n",
        "      actionC_tensor = th.LongTensor(actionsC).to(device)\n",
        "      actionR_tensor = th.FloatTensor(actionsR).to(device)\n",
        "      resultC = self.policyC(frames_tensor)\n",
        "      resultR = self.policyR(frames_tensor)\n",
        "\n",
        "      self.optimizerC.zero_grad()\n",
        "      lossC = self.lossCFunc(resultC, actionC_tensor)\n",
        "      lossC.backward()\n",
        "      if counter % 20 == 0: print(lossC)\n",
        "      self.optimizerC.step()\n",
        "\n",
        "      self.optimizerR.zero_grad()\n",
        "      lossR = self.lossRFunc(resultR, actionR_tensor)\n",
        "      lossR.backward()\n",
        "      if counter % 20 == 0: print(lossR)\n",
        "      self.optimizerR.step()\n",
        "\n",
        "      action_index += 1\n",
        "\n",
        "  def test(self):\n",
        "\n",
        "    files = glob.glob(\"/content/MineRLBasaltFindCave-v0/*.mp4\")\n",
        "    video_path = files[0]\n",
        "    json_path = video_path.replace(\".mp4\", \".jsonl\")\n",
        "\n",
        "    cap = cv2.VideoCapture(video_path)\n",
        "    frames = []\n",
        "\n",
        "    ret, frame = cap.read()\n",
        "    frames.append(frame[::-1])\n",
        "    ret, frame = cap.read()\n",
        "    frames.append(frame[::-1])\n",
        "    frames_tensor = img_to_tensor(frames).to(device)\n",
        "    result = self.policyC.forward(frames_tensor).detach()\n",
        "    print(result, type(result))\n",
        "\n",
        "  def predict(self, observe):\n",
        "\n",
        "    with th.no_grad():\n",
        "\n",
        "      obs_tensor = img_to_tensor([observe, ]).to(device)\n",
        "      resultC = self.policyC(obs_tensor).squeeze().argmax().cpu().numpy()\n",
        "      resultR = self.policyR(obs_tensor).squeeze().cpu().numpy()\n",
        "      env_action = agent_action_to_env(resultC, resultR)\n",
        "\n",
        "    return env_action\n",
        "\n",
        "  def save_model_weights(self, path=\"minerl_weights.pth\"):\n",
        "    # Save the state dictionaries of models and optimizers\n",
        "    th.save({\n",
        "        'policyC_state_dict': self.policyC.state_dict(),\n",
        "        'optimizerC_state_dict': self.optimizerC.state_dict(),\n",
        "        'policyR_state_dict': self.policyR.state_dict(),\n",
        "        'optimizerR_state_dict': self.optimizerR.state_dict(),\n",
        "    }, path)\n",
        "\n",
        "  def load_model_weights(self, path=\"model_weights.pth\"):\n",
        "    # Load the state dictionaries of models and optimizers\n",
        "    checkpoint = th.load(path)\n",
        "    self.policyC.load_state_dict(checkpoint['policyC_state_dict'])\n",
        "    self.optimizerC.load_state_dict(checkpoint['optimizerC_state_dict'])\n",
        "    self.policyR.load_state_dict(checkpoint['policyR_state_dict'])\n",
        "    self.optimizerR.load_state_dict(checkpoint['optimizerR_state_dict'])\n",
        "\n",
        "\n",
        "TA = FindCaveAgent()"
      ],
      "metadata": {
        "id": "GsdBpzdgLEBH"
      },
      "execution_count": null,
      "outputs": []
    },
    {
      "cell_type": "markdown",
      "source": [
        "## Testing"
      ],
      "metadata": {
        "id": "2dgy3nnVR9As"
      }
    },
    {
      "cell_type": "code",
      "source": [
        "pov = obs[\"pov\"]\n",
        "path = \"minerl_weights.pth\"\n",
        "\n",
        "TA.load_model_weights(path)\n",
        "env = gym.make('MineRLBasaltFindCave-v0')"
      ],
      "metadata": {
        "id": "BtUGtSq1S1AX"
      },
      "execution_count": null,
      "outputs": []
    },
    {
      "cell_type": "code",
      "source": [
        "def testing(agent, env, render=False):\n",
        "\n",
        "    obs = env.reset()\n",
        "    pov = obs[\"pov\"]\n",
        "\n",
        "    done = False\n",
        "    cumulative_reward = 0\n",
        "\n",
        "    while not done:\n",
        "        ac = agent.predict(pov)\n",
        "        obs, reward, done, info = env.step(ac)\n",
        "        pov = obs[\"pov\"]\n",
        "\n",
        "        cumulative_reward += reward\n",
        "\n",
        "        if render:\n",
        "            plt.imshow(pov)\n",
        "            plt.show()\n",
        "            plt.clf()  # Important to reduce the usage of RAM\n",
        "\n",
        "    env.close()\n",
        "    print(f\"Total Cumulative Reward: {cumulative_reward}\")\n",
        "    return cumulative_reward\n",
        "\n",
        "\n",
        "render = False\n",
        "num_runs = 10\n",
        "cumulative_rewards = []\n",
        "for _ in range(num_runs):\n",
        "    cumulative_reward = testing(agent, render=render)\n",
        "    cumulative_rewards.append(cumulative_reward)\n",
        "average_cumulative_reward = sum(cumulative_rewards) / num_runs\n",
        "print(f\"Average Cumulative Reward over {num_runs} runs: {average_cumulative_reward}\")\n"
      ],
      "metadata": {
        "id": "NVBzDq72R_Kl"
      },
      "execution_count": null,
      "outputs": []
    },
    {
      "cell_type": "markdown",
      "source": [
        "## Others"
      ],
      "metadata": {
        "id": "rJRSJr3USFhE"
      }
    },
    {
      "cell_type": "code",
      "execution_count": null,
      "metadata": {
        "id": "UmalpPQeHy0X"
      },
      "outputs": [],
      "source": [
        "disp = Display(visible=0, backend=\"xvfb\")\n",
        "disp.start();"
      ]
    },
    {
      "cell_type": "code",
      "execution_count": null,
      "metadata": {
        "id": "h7BT_7Ss9HBl"
      },
      "outputs": [],
      "source": [
        "env.action_space.sample().keys()"
      ]
    },
    {
      "cell_type": "code",
      "execution_count": null,
      "metadata": {
        "id": "b6HkWKSIJgL1"
      },
      "outputs": [],
      "source": [
        "# Have a look at a few actions we might do:\n",
        "for _ in range(10):\n",
        "  print( env.action_space.sample() )"
      ]
    },
    {
      "cell_type": "code",
      "execution_count": null,
      "metadata": {
        "id": "n3FGwWZ489mT"
      },
      "outputs": [],
      "source": [
        "# Now that Steve has been spawned, do some actions...\n",
        "t0=time.time()\n",
        "obs = env.reset()\n",
        "pov = obs[\"pov\"]\n",
        "print(f\"{(time.time()-t0):.2f}sec for env.reset\")\n",
        "\n",
        "done, iter = False, 0\n",
        "actionClist = [128, 128, 128, 130, 130, 130, 130, 130, 130, 128, 128, 0, 0, 0, 1]\n",
        "while not done:\n",
        "    ac = agent_action_to_env(actionClist[iter], [0, 0])\n",
        "    # ac = TA.predict(pov)  # Use this to test the performance of NN\n",
        "    # Spin around to see what is around us\n",
        "    # ac[\"camera\"] = [0, +30]  # (pitch, yaw) deltas in degrees : +30 => turn to right\n",
        "\n",
        "    t1=time.time()\n",
        "    obs, reward, done, info = env.step(ac)\n",
        "    #print(obs, reward, info)  # NB: Yikes : obs is only the image!\n",
        "    #  obs = Dict(pov:Box(low=0, high=255, shape=(360, 640, 3)))\n",
        "    #print(pov.shape) # (360, 640, 3)  Image spec agrees with docs!\n",
        "    print(f\"{(time.time()-t1):.2f}sec for env.step\")  # Approx 0.25sec per step\n",
        "\n",
        "    pov = obs[\"pov\"]\n",
        "\n",
        "    #env.render()  # This does an internal cv2.imshow that colab rejects\n",
        "    #cv2_imshow(pov[:, :, ::-1])\n",
        "    #cv2.waitKey(1)\n",
        "\n",
        "    plt.imshow(pov)\n",
        "    plt.show()\n",
        "    plt.clf()  # important to reduce the usage of RAM\n",
        "    iter +=1\n",
        "    if iter>22: done=True\n",
        "\n",
        "plt.close()\n",
        "\n",
        "f\"{(time.time()-t0):.2f}sec for whole spin\""
      ]
    },
    {
      "cell_type": "code",
      "execution_count": null,
      "metadata": {
        "id": "ytLkHyBow1Ct"
      },
      "outputs": [],
      "source": [
        "# Set up a simple testing function\n",
        "def action_step(action):\n",
        "  ac = env.action_space.noop()\n",
        "  ac.update(action)\n",
        "  obs, reward, done, info = env.step(ac)\n",
        "  plt.imshow(obs[\"pov\"])\n",
        "  plt.show()"
      ]
    },
    {
      "cell_type": "code",
      "execution_count": null,
      "metadata": {
        "id": "p9hUkcZhuObe"
      },
      "outputs": [],
      "source": [
        "action_step({})\n",
        "action_step(dict(inventory=[1]))\n",
        "action_step(dict(camera=[0, +30]))\n",
        "action_step(dict(camera=[-10, -30]))\n",
        "action_step(dict(camera=[+10, 0]))\n",
        "action_step(dict(inventory=[1]))  # Put inventory away? = Yes, if it is showing"
      ]
    },
    {
      "cell_type": "code",
      "execution_count": null,
      "metadata": {
        "id": "taCclVGyuSuZ"
      },
      "outputs": [],
      "source": [
        "#action_step({'inventory':[1]})  # Put inventory away? = NOT jump, sneak, use, hotbar.X, back\n",
        "action_step({})  # NOOP"
      ]
    },
    {
      "cell_type": "code",
      "execution_count": null,
      "metadata": {
        "id": "ssp9BtYZ3u4g"
      },
      "outputs": [],
      "source": [
        "# Set up a simple calibration function\n",
        "import cv2\n",
        "from google.colab.patches import cv2_imshow\n",
        "\n",
        "def action_step_calibrate(x_off,y_off):\n",
        "  ac = env.action_space.noop()\n",
        "  ac.update(dict(camera=[y_off, x_off]))\n",
        "  obs, reward, done, info = env.step(ac)\n",
        "  im = obs[\"pov\"][100:250, 200:400,:]\n",
        "  cv2_imshow(cv2.cvtColor(im, cv2.COLOR_RGB2BGR))\n",
        "  ac = env.action_space.noop()\n",
        "  ac.update(dict(camera=[-y_off, -x_off]))  # Move back\n",
        "  obs, reward, done, info = env.step(ac)"
      ]
    },
    {
      "cell_type": "code",
      "execution_count": null,
      "metadata": {
        "id": "ung8m4tp3ueX"
      },
      "outputs": [],
      "source": [
        "action_step({})\n",
        "action_step(dict(inventory=[1]))\n",
        "\n",
        "action_step_calibrate(0, 0)\n",
        "for x_off in [+0.62, +1.61, +3.22, +5.81, +10.0]:\n",
        "  print(f\"x_off={x_off}\")\n",
        "  action_step_calibrate(x_off,0)\n",
        "  action_step_calibrate(-x_off,0)\n",
        "for y_off in [+0.62, +1.61, +3.22, +5.81, +10.0]:\n",
        "  print(f\"y_off={y_off}\")\n",
        "  action_step_calibrate(0, y_off)\n",
        "  action_step_calibrate(0, -y_off)\n",
        "\n",
        "action_step(dict(inventory=[1]))  # Put inventory away? = Yes, if it is showing"
      ]
    },
    {
      "cell_type": "code",
      "execution_count": null,
      "metadata": {
        "id": "pvxBJAcA73fv"
      },
      "outputs": [],
      "source": [
        "env.close()"
      ]
    },
    {
      "cell_type": "code",
      "execution_count": null,
      "metadata": {
        "id": "ERSdDSW61fnw"
      },
      "outputs": [],
      "source": [
        "disp.stop();"
      ]
    },
    {
      "cell_type": "code",
      "execution_count": null,
      "metadata": {
        "id": "LO__56dWX3en"
      },
      "outputs": [],
      "source": [
        "# THE END! - We'll be using this set-up in the future!"
      ]
    }
  ],
  "metadata": {
    "colab": {
      "provenance": [],
      "include_colab_link": true
    },
    "kernelspec": {
      "display_name": "Python 3",
      "name": "python3"
    },
    "language_info": {
      "name": "python"
    }
  },
  "nbformat": 4,
  "nbformat_minor": 0
}